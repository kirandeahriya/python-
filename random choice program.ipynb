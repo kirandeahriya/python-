{
 "cells": [
  {
   "cell_type": "code",
   "execution_count": 13,
   "id": "1678126f",
   "metadata": {},
   "outputs": [
    {
     "name": "stdout",
     "output_type": "stream",
     "text": [
      "Guess a number between 1 and 10 until you get it right : 8\n",
      "Guess a number between 1 and 10 until you get it right : 5\n",
      "Guess a number between 1 and 10 until you get it right : 9\n",
      "Well guessed!\n"
     ]
    }
   ],
   "source": [
    "import random\n",
    "target_num, guess_num = random.randint(5, 10), 5\n",
    "while target_num != guess_num:\n",
    "    guess_num = int(input('Guess a number between 5 and 10 until you get it right : '))\n",
    "    if target_num == guess_num:\n",
    "        print('Well guessed!')"
   ]
  },
  {
   "cell_type": "code",
   "execution_count": 3,
   "id": "0e201a2d",
   "metadata": {},
   "outputs": [
    {
     "name": "stdout",
     "output_type": "stream",
     "text": [
      "welcome user, \n",
      "user A enter choice between ['rock🥔', 'paper📄', 'scissor✂'] = rock\n",
      "user B enter choice between ['rock🥔', 'paper📄', 'scissor✂'] = paper\n",
      "user C enter choice between ['rock🥔', 'paper📄', 'scissor✂'] = scissor\n",
      "user A 🎉WINNER !!!\n"
     ]
    }
   ],
   "source": [
    "#Try this, it's the idiomatic solution:\n",
    "import random\n",
    "print(\"welcome users, \",)\n",
    "a = ['rock', 'paper', 'scissor']\n",
    "random.choice(a) \n",
    "user1 =input(\"user A enter choice between ['rock🥔', 'paper📄', 'scissor✂'] = \")\n",
    "user2 =input(\"user B enter choice between ['rock🥔', 'paper📄', 'scissor✂'] = \")\n",
    "user3 =input(\"user C enter choice between ['rock🥔', 'paper📄', 'scissor✂'] = \")\n",
    "\n",
    "if user in a:\n",
    "    if user1 == a[0-3]:\n",
    "        print(\"user A 🎉WINNER !!!\")\n",
    "    elif user2 == a[0-3]:\n",
    "        print(\"user B 🎉WINNER !!!\")\n",
    "    else:\n",
    "        print(\"user C 🎉WINNER !!!\")\n",
    "else:\n",
    "    print(\"Enter valid input !!!\")\n",
    "\n"
   ]
  },
  {
   "cell_type": "code",
   "execution_count": null,
   "id": "06479309",
   "metadata": {},
   "outputs": [],
   "source": []
  },
  {
   "cell_type": "code",
   "execution_count": null,
   "id": "92e6cc60",
   "metadata": {},
   "outputs": [],
   "source": []
  },
  {
   "cell_type": "code",
   "execution_count": 12,
   "id": "2647af8a",
   "metadata": {},
   "outputs": [
    {
     "name": "stdout",
     "output_type": "stream",
     "text": [
      "welcome to game page... \n",
      "enter choice between ['rock🥔', 'paper📄', 'scissor✂']paper\n",
      "loser !!!\n",
      "Because the Answer is rock\n"
     ]
    }
   ],
   "source": [
    "#Try this, it's the idiomatic solution:\n",
    "import random\n",
    "print(\"welcome to game page... \")\n",
    "a = ['rock', 'paper', 'scissor']\n",
    "x=random.choice(a) \n",
    "# just an example, it's a random output\n",
    "user =input(\"enter choice between ['rock🥔', 'paper📄', 'scissor✂']\")\n",
    "if user == x:\n",
    "    print(\"Winner !!!\")\n",
    "else:\n",
    "    print(\"loser !!!\") \n",
    "    print(\"Because the Answer is \"+x)"
   ]
  },
  {
   "cell_type": "code",
   "execution_count": null,
   "id": "1f3f06fe",
   "metadata": {},
   "outputs": [],
   "source": []
  }
 ],
 "metadata": {
  "kernelspec": {
   "display_name": "Python 3 (ipykernel)",
   "language": "python",
   "name": "python3"
  },
  "language_info": {
   "codemirror_mode": {
    "name": "ipython",
    "version": 3
   },
   "file_extension": ".py",
   "mimetype": "text/x-python",
   "name": "python",
   "nbconvert_exporter": "python",
   "pygments_lexer": "ipython3",
   "version": "3.9.12"
  }
 },
 "nbformat": 4,
 "nbformat_minor": 5
}
